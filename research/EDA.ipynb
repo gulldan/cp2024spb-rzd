{
 "cells": [
  {
   "cell_type": "code",
   "execution_count": 1,
   "id": "5b6be749-82b8-4d27-be7c-f47794c3caa2",
   "metadata": {},
   "outputs": [],
   "source": [
    "import polars as pl"
   ]
  },
  {
   "cell_type": "code",
   "execution_count": 2,
   "id": "a0c82f3a-33fe-4d2f-905b-c730fb5ef948",
   "metadata": {},
   "outputs": [],
   "source": [
    "MTR = pl.read_parquet(\"MTR.parquet\")"
   ]
  },
  {
   "cell_type": "markdown",
   "id": "d3a8f820-96ac-4796-8d05-2944a747c5a3",
   "metadata": {},
   "source": [
    "## Анализ нанок"
   ]
  },
  {
   "cell_type": "code",
   "execution_count": 3,
   "id": "553816f4-fd71-4010-ab1b-746127f68a6e",
   "metadata": {},
   "outputs": [
    {
     "data": {
      "text/plain": [
       "703291"
      ]
     },
     "execution_count": 3,
     "metadata": {},
     "output_type": "execute_result"
    }
   ],
   "source": [
    "len(MTR)"
   ]
  },
  {
   "cell_type": "code",
   "execution_count": 4,
   "id": "8c789098-359b-4e87-aca3-c0c0988ae2f7",
   "metadata": {},
   "outputs": [
    {
     "data": {
      "text/html": [
       "<div><style>\n",
       ".dataframe > thead > tr,\n",
       ".dataframe > tbody > tr {\n",
       "  text-align: right;\n",
       "  white-space: pre-wrap;\n",
       "}\n",
       "</style>\n",
       "<small>shape: (1, 7)</small><table border=\"1\" class=\"dataframe\"><thead><tr><th>код СКМТР</th><th>Наименование</th><th>Маркировка</th><th>Регламенты (ГОСТ/ТУ)</th><th>Параметры</th><th>Базисная Единица измерения</th><th>ОКПД2</th></tr><tr><td>u32</td><td>u32</td><td>u32</td><td>u32</td><td>u32</td><td>u32</td><td>u32</td></tr></thead><tbody><tr><td>0</td><td>0</td><td>13669</td><td>322331</td><td>90383</td><td>0</td><td>71</td></tr></tbody></table></div>"
      ],
      "text/plain": [
       "shape: (1, 7)\n",
       "┌───────────┬──────────────┬────────────┬────────────┬───────────┬──────────────────┬───────┐\n",
       "│ код СКМТР ┆ Наименование ┆ Маркировка ┆ Регламенты ┆ Параметры ┆ Базисная Единица ┆ ОКПД2 │\n",
       "│ ---       ┆ ---          ┆ ---        ┆ (ГОСТ/ТУ)  ┆ ---       ┆ измерения        ┆ ---   │\n",
       "│ u32       ┆ u32          ┆ u32        ┆ ---        ┆ u32       ┆ ---              ┆ u32   │\n",
       "│           ┆              ┆            ┆ u32        ┆           ┆ u32              ┆       │\n",
       "╞═══════════╪══════════════╪════════════╪════════════╪═══════════╪══════════════════╪═══════╡\n",
       "│ 0         ┆ 0            ┆ 13669      ┆ 322331     ┆ 90383     ┆ 0                ┆ 71    │\n",
       "└───────────┴──────────────┴────────────┴────────────┴───────────┴──────────────────┴───────┘"
      ]
     },
     "execution_count": 4,
     "metadata": {},
     "output_type": "execute_result"
    }
   ],
   "source": [
    "MTR.null_count()"
   ]
  },
  {
   "cell_type": "code",
   "execution_count": 5,
   "id": "1fc72439-4980-4968-833d-490bff62ad37",
   "metadata": {},
   "outputs": [],
   "source": [
    "is_null_series = MTR.select(\n",
    "    pl.col(\"ОКПД2\").is_null(),\n",
    ")\n",
    "MTR = MTR.with_columns(is_null_series[\"ОКПД2\"].alias(\"bool_col_1\"))\n",
    "okpd2_nan = MTR.filter(pl.col(\"bool_col_1\") == True)"
   ]
  },
  {
   "cell_type": "code",
   "execution_count": 6,
   "id": "b30a0ecb-2ec4-4f43-8ce0-994408bbfacf",
   "metadata": {},
   "outputs": [
    {
     "data": {
      "text/html": [
       "<div><style>\n",
       ".dataframe > thead > tr,\n",
       ".dataframe > tbody > tr {\n",
       "  text-align: right;\n",
       "  white-space: pre-wrap;\n",
       "}\n",
       "</style>\n",
       "<small>shape: (71, 8)</small><table border=\"1\" class=\"dataframe\"><thead><tr><th>код СКМТР</th><th>Наименование</th><th>Маркировка</th><th>Регламенты (ГОСТ/ТУ)</th><th>Параметры</th><th>Базисная Единица измерения</th><th>ОКПД2</th><th>bool_col_1</th></tr><tr><td>str</td><td>str</td><td>str</td><td>str</td><td>str</td><td>str</td><td>str</td><td>bool</td></tr></thead><tbody><tr><td>&quot;9520000023&quot;</td><td>&quot;ЖУРНАЛ ВЫДАЧИ БЛОКНОТОВ В АОЛШ&quot;</td><td>&quot;ЖУРНАЛ ВЫДАЧИ БЛОКНОТОВ В АОЛШ&quot;</td><td>null</td><td>&quot;А4 100ЛИСТОВ В СШИВЕ БУМАГА ОФ…</td><td>&quot;796&quot;</td><td>null</td><td>true</td></tr><tr><td>&quot;3459900000&quot;</td><td>&quot;ПНЕВМАТИЧЕСКИЙ РАСПРЕДЕЛИТЕЛЬ&quot;</td><td>&quot;638M-101-A63S03&quot;</td><td>null</td><td>&quot;3/2Н.З. DУ=2 120НЛ/МИН G1/8 0,…</td><td>&quot;796&quot;</td><td>null</td><td>true</td></tr><tr><td>&quot;5155200000&quot;</td><td>&quot;ТЕРМОПОТ&quot;</td><td>&quot;MIDEA MP-8104&quot;</td><td>null</td><td>&quot;5Л 750ВТ 2КГ БЕЛЫЙ&quot;</td><td>&quot;796&quot;</td><td>null</td><td>true</td></tr><tr><td>&quot;3177000006&quot;</td><td>&quot;КЕЙС ЗАЩИТНЫЙ&quot;</td><td>&quot;PELICAN 1500 PROTECTOR CASE 15…</td><td>null</td><td>&quot;470Х357Х176 IP67 С КОМПЛЕКТОМ …</td><td>&quot;796&quot;</td><td>null</td><td>true</td></tr><tr><td>&quot;1680008164&quot;</td><td>&quot;ШАЙБА ПЛОСКАЯ МЕЛКОЙ СЕРИИ&quot;</td><td>&quot;36-200HV&quot;</td><td>&quot;ГОСТ ISO 7092-2016&quot;</td><td>&quot;D=60/37 H=5&quot;</td><td>&quot;166&quot;</td><td>null</td><td>true</td></tr><tr><td>&hellip;</td><td>&hellip;</td><td>&hellip;</td><td>&hellip;</td><td>&hellip;</td><td>&hellip;</td><td>&hellip;</td><td>&hellip;</td></tr><tr><td>&quot;1680008210&quot;</td><td>&quot;ШАЙБА СТОПОРНАЯ&quot;</td><td>&quot;NORD-LOCK NLX12 2376&quot;</td><td>null</td><td>&quot;М12 D=19,5/12,5 S=3,4&quot;</td><td>&quot;166&quot;</td><td>null</td><td>true</td></tr><tr><td>&quot;1680008207&quot;</td><td>&quot;ГАЙКА БЫСТРОЗАЖИМНАЯ ДЛЯ УГЛОВ…</td><td>&quot;ТЕН TQN01&quot;</td><td>null</td><td>&quot;М14 D=22,2 0,12КГ&quot;</td><td>&quot;796&quot;</td><td>null</td><td>true</td></tr><tr><td>&quot;9452010027&quot;</td><td>&quot;ТЕРМОСТАТ ЛАБОРАТОРНЫЙ ВЫСОКОТ…</td><td>&quot;ЛТН-03&quot;</td><td>null</td><td>&quot;20Ъ/40/50/100/130С/0,01С ТЕПОН…</td><td>&quot;796&quot;</td><td>null</td><td>true</td></tr><tr><td>&quot;9692860066&quot;</td><td>&quot;НАБОР КАНЦЕЛЯРСКИЙ НАСТОЛЬНЫЙ …</td><td>&quot;DELUCCI 2991093&quot;</td><td>null</td><td>&quot;9 ПРЕДМЕТОВ КРАСНОЕ ДЕРЕВО&quot;</td><td>&quot;704&quot;</td><td>null</td><td>true</td></tr><tr><td>&quot;1680008211&quot;</td><td>&quot;ШПЛИНТ&quot;</td><td>&quot;1Х8.016&quot;</td><td>&quot;ГОСТ 397-79&quot;</td><td>&quot;1Х8&quot;</td><td>&quot;166&quot;</td><td>null</td><td>true</td></tr></tbody></table></div>"
      ],
      "text/plain": [
       "shape: (71, 8)\n",
       "┌────────────┬────────────┬────────────┬────────────┬────────────┬────────────┬───────┬────────────┐\n",
       "│ код СКМТР  ┆ Наименован ┆ Маркировка ┆ Регламенты ┆ Параметры  ┆ Базисная   ┆ ОКПД2 ┆ bool_col_1 │\n",
       "│ ---        ┆ ие         ┆ ---        ┆ (ГОСТ/ТУ)  ┆ ---        ┆ Единица    ┆ ---   ┆ ---        │\n",
       "│ str        ┆ ---        ┆ str        ┆ ---        ┆ str        ┆ измерения  ┆ str   ┆ bool       │\n",
       "│            ┆ str        ┆            ┆ str        ┆            ┆ ---        ┆       ┆            │\n",
       "│            ┆            ┆            ┆            ┆            ┆ str        ┆       ┆            │\n",
       "╞════════════╪════════════╪════════════╪════════════╪════════════╪════════════╪═══════╪════════════╡\n",
       "│ 9520000023 ┆ ЖУРНАЛ     ┆ ЖУРНАЛ     ┆ null       ┆ А4         ┆ 796        ┆ null  ┆ true       │\n",
       "│            ┆ ВЫДАЧИ     ┆ ВЫДАЧИ     ┆            ┆ 100ЛИСТОВ  ┆            ┆       ┆            │\n",
       "│            ┆ БЛОКНОТОВ  ┆ БЛОКНОТОВ  ┆            ┆ В СШИВЕ    ┆            ┆       ┆            │\n",
       "│            ┆ В АОЛШ     ┆ В АОЛШ     ┆            ┆ БУМАГА ОФ… ┆            ┆       ┆            │\n",
       "│ 3459900000 ┆ ПНЕВМАТИЧЕ ┆ 638M-101-A ┆ null       ┆ 3/2Н.З.    ┆ 796        ┆ null  ┆ true       │\n",
       "│            ┆ СКИЙ РАСПР ┆ 63S03      ┆            ┆ DУ=2       ┆            ┆       ┆            │\n",
       "│            ┆ ЕДЕЛИТЕЛЬ  ┆            ┆            ┆ 120НЛ/МИН  ┆            ┆       ┆            │\n",
       "│            ┆            ┆            ┆            ┆ G1/8 0,…   ┆            ┆       ┆            │\n",
       "│ 5155200000 ┆ ТЕРМОПОТ   ┆ MIDEA      ┆ null       ┆ 5Л 750ВТ   ┆ 796        ┆ null  ┆ true       │\n",
       "│            ┆            ┆ MP-8104    ┆            ┆ 2КГ БЕЛЫЙ  ┆            ┆       ┆            │\n",
       "│ 3177000006 ┆ КЕЙС       ┆ PELICAN    ┆ null       ┆ 470Х357Х17 ┆ 796        ┆ null  ┆ true       │\n",
       "│            ┆ ЗАЩИТНЫЙ   ┆ 1500       ┆            ┆ 6 IP67 С   ┆            ┆       ┆            │\n",
       "│            ┆            ┆ PROTECTOR  ┆            ┆ КОМПЛЕКТОМ ┆            ┆       ┆            │\n",
       "│            ┆            ┆ CASE 15…   ┆            ┆ …          ┆            ┆       ┆            │\n",
       "│ 1680008164 ┆ ШАЙБА      ┆ 36-200HV   ┆ ГОСТ ISO   ┆ D=60/37    ┆ 166        ┆ null  ┆ true       │\n",
       "│            ┆ ПЛОСКАЯ    ┆            ┆ 7092-2016  ┆ H=5        ┆            ┆       ┆            │\n",
       "│            ┆ МЕЛКОЙ     ┆            ┆            ┆            ┆            ┆       ┆            │\n",
       "│            ┆ СЕРИИ      ┆            ┆            ┆            ┆            ┆       ┆            │\n",
       "│ …          ┆ …          ┆ …          ┆ …          ┆ …          ┆ …          ┆ …     ┆ …          │\n",
       "│ 1680008210 ┆ ШАЙБА      ┆ NORD-LOCK  ┆ null       ┆ М12 D=19,5 ┆ 166        ┆ null  ┆ true       │\n",
       "│            ┆ СТОПОРНАЯ  ┆ NLX12 2376 ┆            ┆ /12,5      ┆            ┆       ┆            │\n",
       "│            ┆            ┆            ┆            ┆ S=3,4      ┆            ┆       ┆            │\n",
       "│ 1680008207 ┆ ГАЙКА БЫСТ ┆ ТЕН TQN01  ┆ null       ┆ М14 D=22,2 ┆ 796        ┆ null  ┆ true       │\n",
       "│            ┆ РОЗАЖИМНАЯ ┆            ┆            ┆ 0,12КГ     ┆            ┆       ┆            │\n",
       "│            ┆ ДЛЯ УГЛОВ… ┆            ┆            ┆            ┆            ┆       ┆            │\n",
       "│ 9452010027 ┆ ТЕРМОСТАТ  ┆ ЛТН-03     ┆ null       ┆ 20Ъ/40/50/ ┆ 796        ┆ null  ┆ true       │\n",
       "│            ┆ ЛАБОРАТОРН ┆            ┆            ┆ 100/130С/0 ┆            ┆       ┆            │\n",
       "│            ┆ ЫЙ         ┆            ┆            ┆ ,01С       ┆            ┆       ┆            │\n",
       "│            ┆ ВЫСОКОТ…   ┆            ┆            ┆ ТЕПОН…     ┆            ┆       ┆            │\n",
       "│ 9692860066 ┆ НАБОР КАНЦ ┆ DELUCCI    ┆ null       ┆ 9          ┆ 704        ┆ null  ┆ true       │\n",
       "│            ┆ ЕЛЯРСКИЙ   ┆ 2991093    ┆            ┆ ПРЕДМЕТОВ  ┆            ┆       ┆            │\n",
       "│            ┆ НАСТОЛЬНЫЙ ┆            ┆            ┆ КРАСНОЕ    ┆            ┆       ┆            │\n",
       "│            ┆ …          ┆            ┆            ┆ ДЕРЕВО     ┆            ┆       ┆            │\n",
       "│ 1680008211 ┆ ШПЛИНТ     ┆ 1Х8.016    ┆ ГОСТ       ┆ 1Х8        ┆ 166        ┆ null  ┆ true       │\n",
       "│            ┆            ┆            ┆ 397-79     ┆            ┆            ┆       ┆            │\n",
       "└────────────┴────────────┴────────────┴────────────┴────────────┴────────────┴───────┴────────────┘"
      ]
     },
     "execution_count": 6,
     "metadata": {},
     "output_type": "execute_result"
    }
   ],
   "source": [
    "okpd2_nan"
   ]
  },
  {
   "cell_type": "code",
   "execution_count": 7,
   "id": "82a17386-13e7-48b3-8258-5085c0f7817c",
   "metadata": {},
   "outputs": [
    {
     "data": {
      "text/plain": [
       "703291"
      ]
     },
     "execution_count": 7,
     "metadata": {},
     "output_type": "execute_result"
    }
   ],
   "source": [
    "MTR[\"код СКМТР\"].n_unique()"
   ]
  },
  {
   "cell_type": "code",
   "execution_count": 8,
   "id": "1931b014-820f-4810-8e84-52c035085f64",
   "metadata": {},
   "outputs": [],
   "source": [
    "is_null_series = MTR.select(\n",
    "    pl.col(\"Параметры\").is_null(),\n",
    ")"
   ]
  },
  {
   "cell_type": "code",
   "execution_count": 9,
   "id": "04c4e896-c1b7-4655-a113-cd2f352b7824",
   "metadata": {},
   "outputs": [
    {
     "data": {
      "text/html": [
       "<div><style>\n",
       ".dataframe > thead > tr,\n",
       ".dataframe > tbody > tr {\n",
       "  text-align: right;\n",
       "  white-space: pre-wrap;\n",
       "}\n",
       "</style>\n",
       "<small>shape: (90_383, 9)</small><table border=\"1\" class=\"dataframe\"><thead><tr><th>код СКМТР</th><th>Наименование</th><th>Маркировка</th><th>Регламенты (ГОСТ/ТУ)</th><th>Параметры</th><th>Базисная Единица измерения</th><th>ОКПД2</th><th>bool_col_1</th><th>bool_col</th></tr><tr><td>str</td><td>str</td><td>str</td><td>str</td><td>str</td><td>str</td><td>str</td><td>bool</td><td>bool</td></tr></thead><tbody><tr><td>&quot;5775310030&quot;</td><td>&quot;МАСТИКА БИТУМНО-РЕЗИНОВАЯ ХОЛО…</td><td>&quot;МБР-Х-65&quot;</td><td>&quot;ТУ 23.99.12-015-00287823-2010&quot;</td><td>null</td><td>&quot;166&quot;</td><td>&quot;23.99.12.120&quot;</td><td>false</td><td>true</td></tr><tr><td>&quot;4531180186&quot;</td><td>&quot;КОРОБКА РАЗДАТОЧНАЯ&quot;</td><td>&quot;4320ЯМ-1800020-10&quot;</td><td>null</td><td>null</td><td>&quot;796&quot;</td><td>&quot;29.32.30.390&quot;</td><td>false</td><td>true</td></tr><tr><td>&quot;3187865609&quot;</td><td>&quot;КРЫШКА&quot;</td><td>&quot;ДГКУЖ5.02.00.017&quot;</td><td>null</td><td>null</td><td>&quot;796&quot;</td><td>&quot;30.20.40.149&quot;</td><td>false</td><td>true</td></tr><tr><td>&quot;4981700033&quot;</td><td>&quot;ЗАМОК ЗАЩЕЛКА ДЛЯ ПРОФЕЛЬНЫХ Д…</td><td>&quot;ABLOY LC303/35L&quot;</td><td>null</td><td>null</td><td>&quot;796&quot;</td><td>&quot;25.72.14.120&quot;</td><td>false</td><td>true</td></tr><tr><td>&quot;6673101719&quot;</td><td>&quot;СМАРТФОН&quot;</td><td>&quot;ACER BETOUCH E400&quot;</td><td>null</td><td>null</td><td>&quot;796&quot;</td><td>&quot;26.30.22.110&quot;</td><td>false</td><td>true</td></tr><tr><td>&hellip;</td><td>&hellip;</td><td>&hellip;</td><td>&hellip;</td><td>&hellip;</td><td>&hellip;</td><td>&hellip;</td><td>&hellip;</td><td>&hellip;</td></tr><tr><td>&quot;9522000052&quot;</td><td>&quot;ЖУРНАЛ ПО ПОДПИСКЕ&quot;</td><td>&quot;ВАГОНЫ И ВАГОННОЕ ХОЗЯЙСТВО ПР…</td><td>null</td><td>null</td><td>&quot;839&quot;</td><td>&quot;58.14.12.000&quot;</td><td>false</td><td>true</td></tr><tr><td>&quot;9523100549&quot;</td><td>&quot;ЖУРНАЛ ПО ПОДПИСКЕ&quot;</td><td>&quot;ЖЕЛЕЗНОДОРОЖНЫЙ ТРАНСПОРТ&quot;</td><td>null</td><td>null</td><td>&quot;839&quot;</td><td>&quot;58.14.12.000&quot;</td><td>false</td><td>true</td></tr><tr><td>&quot;9527100039&quot;</td><td>&quot;ЖУРНАЛ ПО ПОДПИСКЕ&quot;</td><td>&quot;ЖЕЛЕЗНЫЕ ДОРОГИ МИРА&quot;</td><td>null</td><td>null</td><td>&quot;839&quot;</td><td>&quot;58.14.11.190&quot;</td><td>false</td><td>true</td></tr><tr><td>&quot;5611200003&quot;</td><td>&quot;СТОЛ ДВУХТУМБОВЫЙ&quot;</td><td>&quot;ОН-11-386/9&quot;</td><td>&quot;МРТУ 13-08-01-65&quot;</td><td>null</td><td>&quot;796&quot;</td><td>&quot;31.09.12.139&quot;</td><td>false</td><td>true</td></tr><tr><td>&quot;0253130791&quot;</td><td>&quot;МАСЛО МОТОРНОЕ СИНТЕТИЧЕСКОЕ&quot;</td><td>&quot;ЛУКОЙЛ АВАНГАРД ПРОФЕССИОНАЛ М…</td><td>&quot;СТО 00044434-017-2010&quot;</td><td>null</td><td>&quot;166&quot;</td><td>&quot;19.20.29.113&quot;</td><td>false</td><td>true</td></tr></tbody></table></div>"
      ],
      "text/plain": [
       "shape: (90_383, 9)\n",
       "┌───────────┬───────────┬───────────┬───────────┬───┬───────────┬───────────┬───────────┬──────────┐\n",
       "│ код СКМТР ┆ Наименова ┆ Маркировк ┆ Регламент ┆ … ┆ Базисная  ┆ ОКПД2     ┆ bool_col_ ┆ bool_col │\n",
       "│ ---       ┆ ние       ┆ а         ┆ ы         ┆   ┆ Единица   ┆ ---       ┆ 1         ┆ ---      │\n",
       "│ str       ┆ ---       ┆ ---       ┆ (ГОСТ/ТУ) ┆   ┆ измерения ┆ str       ┆ ---       ┆ bool     │\n",
       "│           ┆ str       ┆ str       ┆ ---       ┆   ┆ ---       ┆           ┆ bool      ┆          │\n",
       "│           ┆           ┆           ┆ str       ┆   ┆ str       ┆           ┆           ┆          │\n",
       "╞═══════════╪═══════════╪═══════════╪═══════════╪═══╪═══════════╪═══════════╪═══════════╪══════════╡\n",
       "│ 577531003 ┆ МАСТИКА   ┆ МБР-Х-65  ┆ ТУ 23.99. ┆ … ┆ 166       ┆ 23.99.12. ┆ false     ┆ true     │\n",
       "│ 0         ┆ БИТУМНО-Р ┆           ┆ 12-015-00 ┆   ┆           ┆ 120       ┆           ┆          │\n",
       "│           ┆ ЕЗИНОВАЯ  ┆           ┆ 287823-20 ┆   ┆           ┆           ┆           ┆          │\n",
       "│           ┆ ХОЛО…     ┆           ┆ 10        ┆   ┆           ┆           ┆           ┆          │\n",
       "│ 453118018 ┆ КОРОБКА   ┆ 4320ЯМ-18 ┆ null      ┆ … ┆ 796       ┆ 29.32.30. ┆ false     ┆ true     │\n",
       "│ 6         ┆ РАЗДАТОЧН ┆ 00020-10  ┆           ┆   ┆           ┆ 390       ┆           ┆          │\n",
       "│           ┆ АЯ        ┆           ┆           ┆   ┆           ┆           ┆           ┆          │\n",
       "│ 318786560 ┆ КРЫШКА    ┆ ДГКУЖ5.02 ┆ null      ┆ … ┆ 796       ┆ 30.20.40. ┆ false     ┆ true     │\n",
       "│ 9         ┆           ┆ .00.017   ┆           ┆   ┆           ┆ 149       ┆           ┆          │\n",
       "│ 498170003 ┆ ЗАМОК     ┆ ABLOY     ┆ null      ┆ … ┆ 796       ┆ 25.72.14. ┆ false     ┆ true     │\n",
       "│ 3         ┆ ЗАЩЕЛКА   ┆ LC303/35L ┆           ┆   ┆           ┆ 120       ┆           ┆          │\n",
       "│           ┆ ДЛЯ ПРОФЕ ┆           ┆           ┆   ┆           ┆           ┆           ┆          │\n",
       "│           ┆ ЛЬНЫХ Д…  ┆           ┆           ┆   ┆           ┆           ┆           ┆          │\n",
       "│ 667310171 ┆ СМАРТФОН  ┆ ACER      ┆ null      ┆ … ┆ 796       ┆ 26.30.22. ┆ false     ┆ true     │\n",
       "│ 9         ┆           ┆ BETOUCH   ┆           ┆   ┆           ┆ 110       ┆           ┆          │\n",
       "│           ┆           ┆ E400      ┆           ┆   ┆           ┆           ┆           ┆          │\n",
       "│ …         ┆ …         ┆ …         ┆ …         ┆ … ┆ …         ┆ …         ┆ …         ┆ …        │\n",
       "│ 952200005 ┆ ЖУРНАЛ ПО ┆ ВАГОНЫ И  ┆ null      ┆ … ┆ 839       ┆ 58.14.12. ┆ false     ┆ true     │\n",
       "│ 2         ┆ ПОДПИСКЕ  ┆ ВАГОННОЕ  ┆           ┆   ┆           ┆ 000       ┆           ┆          │\n",
       "│           ┆           ┆ ХОЗЯЙСТВО ┆           ┆   ┆           ┆           ┆           ┆          │\n",
       "│           ┆           ┆ ПР…       ┆           ┆   ┆           ┆           ┆           ┆          │\n",
       "│ 952310054 ┆ ЖУРНАЛ ПО ┆ ЖЕЛЕЗНОДО ┆ null      ┆ … ┆ 839       ┆ 58.14.12. ┆ false     ┆ true     │\n",
       "│ 9         ┆ ПОДПИСКЕ  ┆ РОЖНЫЙ    ┆           ┆   ┆           ┆ 000       ┆           ┆          │\n",
       "│           ┆           ┆ ТРАНСПОРТ ┆           ┆   ┆           ┆           ┆           ┆          │\n",
       "│ 952710003 ┆ ЖУРНАЛ ПО ┆ ЖЕЛЕЗНЫЕ  ┆ null      ┆ … ┆ 839       ┆ 58.14.11. ┆ false     ┆ true     │\n",
       "│ 9         ┆ ПОДПИСКЕ  ┆ ДОРОГИ    ┆           ┆   ┆           ┆ 190       ┆           ┆          │\n",
       "│           ┆           ┆ МИРА      ┆           ┆   ┆           ┆           ┆           ┆          │\n",
       "│ 561120000 ┆ СТОЛ ДВУХ ┆ ОН-11-386 ┆ МРТУ 13-0 ┆ … ┆ 796       ┆ 31.09.12. ┆ false     ┆ true     │\n",
       "│ 3         ┆ ТУМБОВЫЙ  ┆ /9        ┆ 8-01-65   ┆   ┆           ┆ 139       ┆           ┆          │\n",
       "│ 025313079 ┆ МАСЛО     ┆ ЛУКОЙЛ    ┆ СТО 00044 ┆ … ┆ 166       ┆ 19.20.29. ┆ false     ┆ true     │\n",
       "│ 1         ┆ МОТОРНОЕ  ┆ АВАНГАРД  ┆ 434-017-2 ┆   ┆           ┆ 113       ┆           ┆          │\n",
       "│           ┆ СИНТЕТИЧЕ ┆ ПРОФЕССИО ┆ 010       ┆   ┆           ┆           ┆           ┆          │\n",
       "│           ┆ СКОЕ      ┆ НАЛ М…    ┆           ┆   ┆           ┆           ┆           ┆          │\n",
       "└───────────┴───────────┴───────────┴───────────┴───┴───────────┴───────────┴───────────┴──────────┘"
      ]
     },
     "execution_count": 9,
     "metadata": {},
     "output_type": "execute_result"
    }
   ],
   "source": [
    "MTR = MTR.with_columns(is_null_series[\"Параметры\"].alias(\"bool_col\"))\n",
    "MTR.filter(pl.col(\"bool_col\") == True)"
   ]
  },
  {
   "cell_type": "markdown",
   "id": "47f52aff-91af-41e1-ba4c-c33bd954758b",
   "metadata": {},
   "source": [
    "## Анализ групп по окпд2"
   ]
  },
  {
   "cell_type": "code",
   "execution_count": 10,
   "id": "0dc0ade1-c6d3-48fe-8c94-2e0a17d66169",
   "metadata": {},
   "outputs": [],
   "source": [
    "okpd_2 = MTR[\"ОКПД2\"].value_counts()"
   ]
  },
  {
   "cell_type": "code",
   "execution_count": 11,
   "id": "0c562a69-8f12-477f-9000-db631c344bed",
   "metadata": {},
   "outputs": [
    {
     "data": {
      "text/html": [
       "<div><style>\n",
       ".dataframe > thead > tr,\n",
       ".dataframe > tbody > tr {\n",
       "  text-align: right;\n",
       "  white-space: pre-wrap;\n",
       "}\n",
       "</style>\n",
       "<small>shape: (3_631, 2)</small><table border=\"1\" class=\"dataframe\"><thead><tr><th>ОКПД2</th><th>count</th></tr><tr><td>str</td><td>u32</td></tr></thead><tbody><tr><td>&quot;28.13.32.110&quot;</td><td>228</td></tr><tr><td>&quot;10.51.12.110&quot;</td><td>4</td></tr><tr><td>&quot;58.19.11.100&quot;</td><td>198</td></tr><tr><td>&quot;25.73.30.173&quot;</td><td>213</td></tr><tr><td>&quot;25.71.12.110&quot;</td><td>26</td></tr><tr><td>&hellip;</td><td>&hellip;</td></tr><tr><td>&quot;23.43.10.120&quot;</td><td>23</td></tr><tr><td>&quot;20.41.31.121&quot;</td><td>6</td></tr><tr><td>&quot;27.51.21.190&quot;</td><td>169</td></tr><tr><td>&quot;10.51.52.212&quot;</td><td>37</td></tr><tr><td>&quot;26.52.12.140&quot;</td><td>37</td></tr></tbody></table></div>"
      ],
      "text/plain": [
       "shape: (3_631, 2)\n",
       "┌──────────────┬───────┐\n",
       "│ ОКПД2        ┆ count │\n",
       "│ ---          ┆ ---   │\n",
       "│ str          ┆ u32   │\n",
       "╞══════════════╪═══════╡\n",
       "│ 28.13.32.110 ┆ 228   │\n",
       "│ 10.51.12.110 ┆ 4     │\n",
       "│ 58.19.11.100 ┆ 198   │\n",
       "│ 25.73.30.173 ┆ 213   │\n",
       "│ 25.71.12.110 ┆ 26    │\n",
       "│ …            ┆ …     │\n",
       "│ 23.43.10.120 ┆ 23    │\n",
       "│ 20.41.31.121 ┆ 6     │\n",
       "│ 27.51.21.190 ┆ 169   │\n",
       "│ 10.51.52.212 ┆ 37    │\n",
       "│ 26.52.12.140 ┆ 37    │\n",
       "└──────────────┴───────┘"
      ]
     },
     "execution_count": 11,
     "metadata": {},
     "output_type": "execute_result"
    }
   ],
   "source": [
    "okpd_2"
   ]
  },
  {
   "cell_type": "code",
   "execution_count": 12,
   "id": "f5d7d985-965d-479d-a9dc-98936397aefb",
   "metadata": {},
   "outputs": [
    {
     "data": {
      "text/plain": [
       "1012"
      ]
     },
     "execution_count": 12,
     "metadata": {},
     "output_type": "execute_result"
    }
   ],
   "source": [
    "sum(okpd_2[\"count\"] > 50)"
   ]
  },
  {
   "cell_type": "code",
   "execution_count": 13,
   "id": "73694043-867e-4078-bafd-bcd79061fc4c",
   "metadata": {},
   "outputs": [
    {
     "data": {
      "text/plain": [
       "710"
      ]
     },
     "execution_count": 13,
     "metadata": {},
     "output_type": "execute_result"
    }
   ],
   "source": [
    "sum(okpd_2[\"count\"] > 100)"
   ]
  },
  {
   "cell_type": "code",
   "execution_count": 14,
   "id": "592ea412-b112-49a1-aff8-a19aeb8b005e",
   "metadata": {},
   "outputs": [
    {
     "data": {
      "text/plain": [
       "98"
      ]
     },
     "execution_count": 14,
     "metadata": {},
     "output_type": "execute_result"
    }
   ],
   "source": [
    "sum(okpd_2[\"count\"] > 1000)"
   ]
  },
  {
   "cell_type": "code",
   "execution_count": 15,
   "id": "1f4eb5f2-26a6-4ca8-ab90-0ec3bbb53cfc",
   "metadata": {},
   "outputs": [
    {
     "data": {
      "text/plain": [
       "623"
      ]
     },
     "execution_count": 15,
     "metadata": {},
     "output_type": "execute_result"
    }
   ],
   "source": [
    "sum(okpd_2[\"count\"] == 1)"
   ]
  },
  {
   "cell_type": "markdown",
   "id": "e01ead14-d308-49e9-bacb-cff0c203c126",
   "metadata": {},
   "source": [
    "# А что если брать на уровень повыше"
   ]
  },
  {
   "cell_type": "code",
   "execution_count": 16,
   "id": "0078e43c-19fb-4185-bdbe-e083d7996d39",
   "metadata": {},
   "outputs": [],
   "source": [
    "MTR = MTR.filter(pl.col(\"bool_col_1\") == False)"
   ]
  },
  {
   "cell_type": "code",
   "execution_count": 18,
   "id": "da8a3867-c3a4-4755-88a4-ba265266d20a",
   "metadata": {},
   "outputs": [
    {
     "data": {
      "text/html": [
       "<div><style>\n",
       ".dataframe > thead > tr,\n",
       ".dataframe > tbody > tr {\n",
       "  text-align: right;\n",
       "  white-space: pre-wrap;\n",
       "}\n",
       "</style>\n",
       "<small>shape: (703_220, 9)</small><table border=\"1\" class=\"dataframe\"><thead><tr><th>код СКМТР</th><th>Наименование</th><th>Маркировка</th><th>Регламенты (ГОСТ/ТУ)</th><th>Параметры</th><th>Базисная Единица измерения</th><th>ОКПД2</th><th>bool_col_1</th><th>bool_col</th></tr><tr><td>str</td><td>str</td><td>str</td><td>str</td><td>str</td><td>str</td><td>str</td><td>bool</td><td>bool</td></tr></thead><tbody><tr><td>&quot;8559150569&quot;</td><td>&quot;СОРОЧКА МУЖСКАЯ ФОРМЕННАЯ ПОВС…</td><td>&quot;АО ФПК&quot;</td><td>&quot;ТУ 8559-004-00083262-2009&quot;</td><td>&quot;124-108-182 (2-Я ПОЛНОТНАЯ ГРУ…</td><td>&quot;796&quot;</td><td>&quot;14.12.30.131&quot;</td><td>false</td><td>false</td></tr><tr><td>&quot;8559150570&quot;</td><td>&quot;СОРОЧКА МУЖСКАЯ ФОРМЕННАЯ ПОВС…</td><td>&quot;АО ФПК&quot;</td><td>&quot;ТУ 8559-004-00083262-2009&quot;</td><td>&quot;124-108-188 (2-Я ПОЛНОТНАЯ ГРУ…</td><td>&quot;796&quot;</td><td>&quot;14.12.30.131&quot;</td><td>false</td><td>false</td></tr><tr><td>&quot;8559150571&quot;</td><td>&quot;СОРОЧКА МУЖСКАЯ ФОРМЕННАЯ ПОВС…</td><td>&quot;АО ФПК&quot;</td><td>&quot;ТУ 8559-004-00083262-2009&quot;</td><td>&quot;124-108-194 (2-Я ПОЛНОТНАЯ ГРУ…</td><td>&quot;796&quot;</td><td>&quot;14.12.30.131&quot;</td><td>false</td><td>false</td></tr><tr><td>&quot;8559150572&quot;</td><td>&quot;СОРОЧКА МУЖСКАЯ ФОРМЕННАЯ ПОВС…</td><td>&quot;АО ФПК&quot;</td><td>&quot;ТУ 8559-004-00083262-2009&quot;</td><td>&quot;128-112-152 (2-Я ПОЛНОТНАЯ ГРУ…</td><td>&quot;796&quot;</td><td>&quot;14.12.30.131&quot;</td><td>false</td><td>false</td></tr><tr><td>&quot;8559150573&quot;</td><td>&quot;СОРОЧКА МУЖСКАЯ ФОРМЕННАЯ ПОВС…</td><td>&quot;АО ФПК&quot;</td><td>&quot;ТУ 8559-004-00083262-2009&quot;</td><td>&quot;128-112-158 (2-Я ПОЛНОТНАЯ ГРУ…</td><td>&quot;796&quot;</td><td>&quot;14.12.30.131&quot;</td><td>false</td><td>false</td></tr><tr><td>&hellip;</td><td>&hellip;</td><td>&hellip;</td><td>&hellip;</td><td>&hellip;</td><td>&hellip;</td><td>&hellip;</td><td>&hellip;</td><td>&hellip;</td></tr><tr><td>&quot;8559245745&quot;</td><td>&quot;ЖИЛЕТ ЖЕНСКИЙ ФОРМЕННЫЙ&quot;</td><td>&quot;ТЕХНОАВИА BUSINESS CLASS 1.124&quot;</td><td>&quot;ГОСТ 25295-2003&quot;</td><td>&quot;108/158 ШЕРСТЬ-44% ПОЛИЭФИР-54…</td><td>&quot;796&quot;</td><td>&quot;14.12.30.132&quot;</td><td>false</td><td>false</td></tr><tr><td>&quot;8559245744&quot;</td><td>&quot;ЖИЛЕТ ЖЕНСКИЙ ФОРМЕННЫЙ&quot;</td><td>&quot;ТЕХНОАВИА BUSINESS CLASS 1.124&quot;</td><td>&quot;ГОСТ 25295-2003&quot;</td><td>&quot;104/176 ШЕРСТЬ-44% ПОЛИЭФИР-54…</td><td>&quot;796&quot;</td><td>&quot;14.12.30.132&quot;</td><td>false</td><td>false</td></tr><tr><td>&quot;8559245743&quot;</td><td>&quot;ЖИЛЕТ ЖЕНСКИЙ ФОРМЕННЫЙ&quot;</td><td>&quot;ТЕХНОАВИА BUSINESS CLASS 1.124&quot;</td><td>&quot;ГОСТ 25295-2003&quot;</td><td>&quot;104/170 ШЕРСТЬ-44% ПОЛИЭФИР-54…</td><td>&quot;796&quot;</td><td>&quot;14.12.30.132&quot;</td><td>false</td><td>false</td></tr><tr><td>&quot;8559245742&quot;</td><td>&quot;ЖИЛЕТ ЖЕНСКИЙ ФОРМЕННЫЙ&quot;</td><td>&quot;ТЕХНОАВИА BUSINESS CLASS 1.124&quot;</td><td>&quot;ГОСТ 25295-2003&quot;</td><td>&quot;104/164 ШЕРСТЬ-44% ПОЛИЭФИР-54…</td><td>&quot;796&quot;</td><td>&quot;14.12.30.132&quot;</td><td>false</td><td>false</td></tr><tr><td>&quot;8559245741&quot;</td><td>&quot;ЖИЛЕТ ЖЕНСКИЙ ФОРМЕННЫЙ&quot;</td><td>&quot;ТЕХНОАВИА BUSINESS CLASS 1.124&quot;</td><td>&quot;ГОСТ 25295-2003&quot;</td><td>&quot;104/158 ШЕРСТЬ-44% ПОЛИЭФИР-54…</td><td>&quot;796&quot;</td><td>&quot;14.12.30.132&quot;</td><td>false</td><td>false</td></tr></tbody></table></div>"
      ],
      "text/plain": [
       "shape: (703_220, 9)\n",
       "┌───────────┬───────────┬───────────┬───────────┬───┬───────────┬───────────┬───────────┬──────────┐\n",
       "│ код СКМТР ┆ Наименова ┆ Маркировк ┆ Регламент ┆ … ┆ Базисная  ┆ ОКПД2     ┆ bool_col_ ┆ bool_col │\n",
       "│ ---       ┆ ние       ┆ а         ┆ ы         ┆   ┆ Единица   ┆ ---       ┆ 1         ┆ ---      │\n",
       "│ str       ┆ ---       ┆ ---       ┆ (ГОСТ/ТУ) ┆   ┆ измерения ┆ str       ┆ ---       ┆ bool     │\n",
       "│           ┆ str       ┆ str       ┆ ---       ┆   ┆ ---       ┆           ┆ bool      ┆          │\n",
       "│           ┆           ┆           ┆ str       ┆   ┆ str       ┆           ┆           ┆          │\n",
       "╞═══════════╪═══════════╪═══════════╪═══════════╪═══╪═══════════╪═══════════╪═══════════╪══════════╡\n",
       "│ 855915056 ┆ СОРОЧКА   ┆ АО ФПК    ┆ ТУ 8559-0 ┆ … ┆ 796       ┆ 14.12.30. ┆ false     ┆ false    │\n",
       "│ 9         ┆ МУЖСКАЯ   ┆           ┆ 04-000832 ┆   ┆           ┆ 131       ┆           ┆          │\n",
       "│           ┆ ФОРМЕННАЯ ┆           ┆ 62-2009   ┆   ┆           ┆           ┆           ┆          │\n",
       "│           ┆ ПОВС…     ┆           ┆           ┆   ┆           ┆           ┆           ┆          │\n",
       "│ 855915057 ┆ СОРОЧКА   ┆ АО ФПК    ┆ ТУ 8559-0 ┆ … ┆ 796       ┆ 14.12.30. ┆ false     ┆ false    │\n",
       "│ 0         ┆ МУЖСКАЯ   ┆           ┆ 04-000832 ┆   ┆           ┆ 131       ┆           ┆          │\n",
       "│           ┆ ФОРМЕННАЯ ┆           ┆ 62-2009   ┆   ┆           ┆           ┆           ┆          │\n",
       "│           ┆ ПОВС…     ┆           ┆           ┆   ┆           ┆           ┆           ┆          │\n",
       "│ 855915057 ┆ СОРОЧКА   ┆ АО ФПК    ┆ ТУ 8559-0 ┆ … ┆ 796       ┆ 14.12.30. ┆ false     ┆ false    │\n",
       "│ 1         ┆ МУЖСКАЯ   ┆           ┆ 04-000832 ┆   ┆           ┆ 131       ┆           ┆          │\n",
       "│           ┆ ФОРМЕННАЯ ┆           ┆ 62-2009   ┆   ┆           ┆           ┆           ┆          │\n",
       "│           ┆ ПОВС…     ┆           ┆           ┆   ┆           ┆           ┆           ┆          │\n",
       "│ 855915057 ┆ СОРОЧКА   ┆ АО ФПК    ┆ ТУ 8559-0 ┆ … ┆ 796       ┆ 14.12.30. ┆ false     ┆ false    │\n",
       "│ 2         ┆ МУЖСКАЯ   ┆           ┆ 04-000832 ┆   ┆           ┆ 131       ┆           ┆          │\n",
       "│           ┆ ФОРМЕННАЯ ┆           ┆ 62-2009   ┆   ┆           ┆           ┆           ┆          │\n",
       "│           ┆ ПОВС…     ┆           ┆           ┆   ┆           ┆           ┆           ┆          │\n",
       "│ 855915057 ┆ СОРОЧКА   ┆ АО ФПК    ┆ ТУ 8559-0 ┆ … ┆ 796       ┆ 14.12.30. ┆ false     ┆ false    │\n",
       "│ 3         ┆ МУЖСКАЯ   ┆           ┆ 04-000832 ┆   ┆           ┆ 131       ┆           ┆          │\n",
       "│           ┆ ФОРМЕННАЯ ┆           ┆ 62-2009   ┆   ┆           ┆           ┆           ┆          │\n",
       "│           ┆ ПОВС…     ┆           ┆           ┆   ┆           ┆           ┆           ┆          │\n",
       "│ …         ┆ …         ┆ …         ┆ …         ┆ … ┆ …         ┆ …         ┆ …         ┆ …        │\n",
       "│ 855924574 ┆ ЖИЛЕТ     ┆ ТЕХНОАВИА ┆ ГОСТ 2529 ┆ … ┆ 796       ┆ 14.12.30. ┆ false     ┆ false    │\n",
       "│ 5         ┆ ЖЕНСКИЙ   ┆ BUSINESS  ┆ 5-2003    ┆   ┆           ┆ 132       ┆           ┆          │\n",
       "│           ┆ ФОРМЕННЫЙ ┆ CLASS     ┆           ┆   ┆           ┆           ┆           ┆          │\n",
       "│           ┆           ┆ 1.124     ┆           ┆   ┆           ┆           ┆           ┆          │\n",
       "│ 855924574 ┆ ЖИЛЕТ     ┆ ТЕХНОАВИА ┆ ГОСТ 2529 ┆ … ┆ 796       ┆ 14.12.30. ┆ false     ┆ false    │\n",
       "│ 4         ┆ ЖЕНСКИЙ   ┆ BUSINESS  ┆ 5-2003    ┆   ┆           ┆ 132       ┆           ┆          │\n",
       "│           ┆ ФОРМЕННЫЙ ┆ CLASS     ┆           ┆   ┆           ┆           ┆           ┆          │\n",
       "│           ┆           ┆ 1.124     ┆           ┆   ┆           ┆           ┆           ┆          │\n",
       "│ 855924574 ┆ ЖИЛЕТ     ┆ ТЕХНОАВИА ┆ ГОСТ 2529 ┆ … ┆ 796       ┆ 14.12.30. ┆ false     ┆ false    │\n",
       "│ 3         ┆ ЖЕНСКИЙ   ┆ BUSINESS  ┆ 5-2003    ┆   ┆           ┆ 132       ┆           ┆          │\n",
       "│           ┆ ФОРМЕННЫЙ ┆ CLASS     ┆           ┆   ┆           ┆           ┆           ┆          │\n",
       "│           ┆           ┆ 1.124     ┆           ┆   ┆           ┆           ┆           ┆          │\n",
       "│ 855924574 ┆ ЖИЛЕТ     ┆ ТЕХНОАВИА ┆ ГОСТ 2529 ┆ … ┆ 796       ┆ 14.12.30. ┆ false     ┆ false    │\n",
       "│ 2         ┆ ЖЕНСКИЙ   ┆ BUSINESS  ┆ 5-2003    ┆   ┆           ┆ 132       ┆           ┆          │\n",
       "│           ┆ ФОРМЕННЫЙ ┆ CLASS     ┆           ┆   ┆           ┆           ┆           ┆          │\n",
       "│           ┆           ┆ 1.124     ┆           ┆   ┆           ┆           ┆           ┆          │\n",
       "│ 855924574 ┆ ЖИЛЕТ     ┆ ТЕХНОАВИА ┆ ГОСТ 2529 ┆ … ┆ 796       ┆ 14.12.30. ┆ false     ┆ false    │\n",
       "│ 1         ┆ ЖЕНСКИЙ   ┆ BUSINESS  ┆ 5-2003    ┆   ┆           ┆ 132       ┆           ┆          │\n",
       "│           ┆ ФОРМЕННЫЙ ┆ CLASS     ┆           ┆   ┆           ┆           ┆           ┆          │\n",
       "│           ┆           ┆ 1.124     ┆           ┆   ┆           ┆           ┆           ┆          │\n",
       "└───────────┴───────────┴───────────┴───────────┴───┴───────────┴───────────┴───────────┴──────────┘"
      ]
     },
     "execution_count": 18,
     "metadata": {},
     "output_type": "execute_result"
    }
   ],
   "source": [
    "MTR"
   ]
  },
  {
   "cell_type": "code",
   "execution_count": 21,
   "id": "23efe4ac-8165-414c-bad2-e194a87bc00c",
   "metadata": {},
   "outputs": [],
   "source": [
    "MTR = MTR.with_columns(pl.col(\"ОКПД2\").str.slice(0, 8).alias(\"ОКПД2_simple\"))"
   ]
  },
  {
   "cell_type": "code",
   "execution_count": 24,
   "id": "63ab99f8-ba68-4d7d-91a5-efed225448dd",
   "metadata": {},
   "outputs": [],
   "source": [
    "okpd2_simple = MTR[\"ОКПД2_simple\"].value_counts()"
   ]
  },
  {
   "cell_type": "code",
   "execution_count": 25,
   "id": "33909b05-f35e-4bac-a2f6-0494819575e1",
   "metadata": {},
   "outputs": [
    {
     "data": {
      "text/html": [
       "<div><style>\n",
       ".dataframe > thead > tr,\n",
       ".dataframe > tbody > tr {\n",
       "  text-align: right;\n",
       "  white-space: pre-wrap;\n",
       "}\n",
       "</style>\n",
       "<small>shape: (1_182, 2)</small><table border=\"1\" class=\"dataframe\"><thead><tr><th>ОКПД2_simple</th><th>count</th></tr><tr><td>str</td><td>u32</td></tr></thead><tbody><tr><td>&quot;38.11.51&quot;</td><td>2</td></tr><tr><td>&quot;23.20.11&quot;</td><td>1</td></tr><tr><td>&quot;28.15.26&quot;</td><td>65</td></tr><tr><td>&quot;28.23.12&quot;</td><td>1</td></tr><tr><td>&quot;38.11.54&quot;</td><td>3</td></tr><tr><td>&hellip;</td><td>&hellip;</td></tr><tr><td>&quot;13.91.19&quot;</td><td>5</td></tr><tr><td>&quot;13.99.11&quot;</td><td>84</td></tr><tr><td>&quot;20.59.56&quot;</td><td>91</td></tr><tr><td>&quot;20.15.76&quot;</td><td>3</td></tr><tr><td>&quot;25.12.1&quot;</td><td>19</td></tr></tbody></table></div>"
      ],
      "text/plain": [
       "shape: (1_182, 2)\n",
       "┌──────────────┬───────┐\n",
       "│ ОКПД2_simple ┆ count │\n",
       "│ ---          ┆ ---   │\n",
       "│ str          ┆ u32   │\n",
       "╞══════════════╪═══════╡\n",
       "│ 38.11.51     ┆ 2     │\n",
       "│ 23.20.11     ┆ 1     │\n",
       "│ 28.15.26     ┆ 65    │\n",
       "│ 28.23.12     ┆ 1     │\n",
       "│ 38.11.54     ┆ 3     │\n",
       "│ …            ┆ …     │\n",
       "│ 13.91.19     ┆ 5     │\n",
       "│ 13.99.11     ┆ 84    │\n",
       "│ 20.59.56     ┆ 91    │\n",
       "│ 20.15.76     ┆ 3     │\n",
       "│ 25.12.1      ┆ 19    │\n",
       "└──────────────┴───────┘"
      ]
     },
     "execution_count": 25,
     "metadata": {},
     "output_type": "execute_result"
    }
   ],
   "source": [
    "okpd2_simple"
   ]
  },
  {
   "cell_type": "code",
   "execution_count": 26,
   "id": "b581fb85-13a1-4368-9859-59556291a451",
   "metadata": {},
   "outputs": [
    {
     "data": {
      "text/plain": [
       "538"
      ]
     },
     "execution_count": 26,
     "metadata": {},
     "output_type": "execute_result"
    }
   ],
   "source": [
    "sum(okpd2_simple[\"count\"] > 50)"
   ]
  },
  {
   "cell_type": "code",
   "execution_count": 27,
   "id": "eb05db59-d15c-4007-8803-969ee7781e00",
   "metadata": {},
   "outputs": [
    {
     "data": {
      "text/plain": [
       "811"
      ]
     },
     "execution_count": 27,
     "metadata": {},
     "output_type": "execute_result"
    }
   ],
   "source": [
    "sum(okpd2_simple[\"count\"] > 10)"
   ]
  },
  {
   "cell_type": "code",
   "execution_count": 28,
   "id": "9f6fecc2-4558-403c-a739-8fd0ad09da5d",
   "metadata": {},
   "outputs": [
    {
     "data": {
      "text/plain": [
       "110"
      ]
     },
     "execution_count": 28,
     "metadata": {},
     "output_type": "execute_result"
    }
   ],
   "source": [
    "sum(okpd2_simple[\"count\"] == 1)"
   ]
  },
  {
   "cell_type": "code",
   "execution_count": 29,
   "id": "baff3782-c457-4148-9cf9-a4bc1d146450",
   "metadata": {},
   "outputs": [
    {
     "data": {
      "text/html": [
       "<div><style>\n",
       ".dataframe > thead > tr,\n",
       ".dataframe > tbody > tr {\n",
       "  text-align: right;\n",
       "  white-space: pre-wrap;\n",
       "}\n",
       "</style>\n",
       "<small>shape: (703_220, 10)</small><table border=\"1\" class=\"dataframe\"><thead><tr><th>код СКМТР</th><th>Наименование</th><th>Маркировка</th><th>Регламенты (ГОСТ/ТУ)</th><th>Параметры</th><th>Базисная Единица измерения</th><th>ОКПД2</th><th>bool_col_1</th><th>bool_col</th><th>ОКПД2_simple</th></tr><tr><td>str</td><td>str</td><td>str</td><td>str</td><td>str</td><td>str</td><td>str</td><td>bool</td><td>bool</td><td>str</td></tr></thead><tbody><tr><td>&quot;8559150569&quot;</td><td>&quot;СОРОЧКА МУЖСКАЯ ФОРМЕННАЯ ПОВС…</td><td>&quot;АО ФПК&quot;</td><td>&quot;ТУ 8559-004-00083262-2009&quot;</td><td>&quot;124-108-182 (2-Я ПОЛНОТНАЯ ГРУ…</td><td>&quot;796&quot;</td><td>&quot;14.12.30.131&quot;</td><td>false</td><td>false</td><td>&quot;14.12.30&quot;</td></tr><tr><td>&quot;8559150570&quot;</td><td>&quot;СОРОЧКА МУЖСКАЯ ФОРМЕННАЯ ПОВС…</td><td>&quot;АО ФПК&quot;</td><td>&quot;ТУ 8559-004-00083262-2009&quot;</td><td>&quot;124-108-188 (2-Я ПОЛНОТНАЯ ГРУ…</td><td>&quot;796&quot;</td><td>&quot;14.12.30.131&quot;</td><td>false</td><td>false</td><td>&quot;14.12.30&quot;</td></tr><tr><td>&quot;8559150571&quot;</td><td>&quot;СОРОЧКА МУЖСКАЯ ФОРМЕННАЯ ПОВС…</td><td>&quot;АО ФПК&quot;</td><td>&quot;ТУ 8559-004-00083262-2009&quot;</td><td>&quot;124-108-194 (2-Я ПОЛНОТНАЯ ГРУ…</td><td>&quot;796&quot;</td><td>&quot;14.12.30.131&quot;</td><td>false</td><td>false</td><td>&quot;14.12.30&quot;</td></tr><tr><td>&quot;8559150572&quot;</td><td>&quot;СОРОЧКА МУЖСКАЯ ФОРМЕННАЯ ПОВС…</td><td>&quot;АО ФПК&quot;</td><td>&quot;ТУ 8559-004-00083262-2009&quot;</td><td>&quot;128-112-152 (2-Я ПОЛНОТНАЯ ГРУ…</td><td>&quot;796&quot;</td><td>&quot;14.12.30.131&quot;</td><td>false</td><td>false</td><td>&quot;14.12.30&quot;</td></tr><tr><td>&quot;8559150573&quot;</td><td>&quot;СОРОЧКА МУЖСКАЯ ФОРМЕННАЯ ПОВС…</td><td>&quot;АО ФПК&quot;</td><td>&quot;ТУ 8559-004-00083262-2009&quot;</td><td>&quot;128-112-158 (2-Я ПОЛНОТНАЯ ГРУ…</td><td>&quot;796&quot;</td><td>&quot;14.12.30.131&quot;</td><td>false</td><td>false</td><td>&quot;14.12.30&quot;</td></tr><tr><td>&hellip;</td><td>&hellip;</td><td>&hellip;</td><td>&hellip;</td><td>&hellip;</td><td>&hellip;</td><td>&hellip;</td><td>&hellip;</td><td>&hellip;</td><td>&hellip;</td></tr><tr><td>&quot;8559245745&quot;</td><td>&quot;ЖИЛЕТ ЖЕНСКИЙ ФОРМЕННЫЙ&quot;</td><td>&quot;ТЕХНОАВИА BUSINESS CLASS 1.124&quot;</td><td>&quot;ГОСТ 25295-2003&quot;</td><td>&quot;108/158 ШЕРСТЬ-44% ПОЛИЭФИР-54…</td><td>&quot;796&quot;</td><td>&quot;14.12.30.132&quot;</td><td>false</td><td>false</td><td>&quot;14.12.30&quot;</td></tr><tr><td>&quot;8559245744&quot;</td><td>&quot;ЖИЛЕТ ЖЕНСКИЙ ФОРМЕННЫЙ&quot;</td><td>&quot;ТЕХНОАВИА BUSINESS CLASS 1.124&quot;</td><td>&quot;ГОСТ 25295-2003&quot;</td><td>&quot;104/176 ШЕРСТЬ-44% ПОЛИЭФИР-54…</td><td>&quot;796&quot;</td><td>&quot;14.12.30.132&quot;</td><td>false</td><td>false</td><td>&quot;14.12.30&quot;</td></tr><tr><td>&quot;8559245743&quot;</td><td>&quot;ЖИЛЕТ ЖЕНСКИЙ ФОРМЕННЫЙ&quot;</td><td>&quot;ТЕХНОАВИА BUSINESS CLASS 1.124&quot;</td><td>&quot;ГОСТ 25295-2003&quot;</td><td>&quot;104/170 ШЕРСТЬ-44% ПОЛИЭФИР-54…</td><td>&quot;796&quot;</td><td>&quot;14.12.30.132&quot;</td><td>false</td><td>false</td><td>&quot;14.12.30&quot;</td></tr><tr><td>&quot;8559245742&quot;</td><td>&quot;ЖИЛЕТ ЖЕНСКИЙ ФОРМЕННЫЙ&quot;</td><td>&quot;ТЕХНОАВИА BUSINESS CLASS 1.124&quot;</td><td>&quot;ГОСТ 25295-2003&quot;</td><td>&quot;104/164 ШЕРСТЬ-44% ПОЛИЭФИР-54…</td><td>&quot;796&quot;</td><td>&quot;14.12.30.132&quot;</td><td>false</td><td>false</td><td>&quot;14.12.30&quot;</td></tr><tr><td>&quot;8559245741&quot;</td><td>&quot;ЖИЛЕТ ЖЕНСКИЙ ФОРМЕННЫЙ&quot;</td><td>&quot;ТЕХНОАВИА BUSINESS CLASS 1.124&quot;</td><td>&quot;ГОСТ 25295-2003&quot;</td><td>&quot;104/158 ШЕРСТЬ-44% ПОЛИЭФИР-54…</td><td>&quot;796&quot;</td><td>&quot;14.12.30.132&quot;</td><td>false</td><td>false</td><td>&quot;14.12.30&quot;</td></tr></tbody></table></div>"
      ],
      "text/plain": [
       "shape: (703_220, 10)\n",
       "┌───────────┬───────────┬───────────┬───────────┬───┬───────────┬───────────┬──────────┬───────────┐\n",
       "│ код СКМТР ┆ Наименова ┆ Маркировк ┆ Регламент ┆ … ┆ ОКПД2     ┆ bool_col_ ┆ bool_col ┆ ОКПД2_sim │\n",
       "│ ---       ┆ ние       ┆ а         ┆ ы         ┆   ┆ ---       ┆ 1         ┆ ---      ┆ ple       │\n",
       "│ str       ┆ ---       ┆ ---       ┆ (ГОСТ/ТУ) ┆   ┆ str       ┆ ---       ┆ bool     ┆ ---       │\n",
       "│           ┆ str       ┆ str       ┆ ---       ┆   ┆           ┆ bool      ┆          ┆ str       │\n",
       "│           ┆           ┆           ┆ str       ┆   ┆           ┆           ┆          ┆           │\n",
       "╞═══════════╪═══════════╪═══════════╪═══════════╪═══╪═══════════╪═══════════╪══════════╪═══════════╡\n",
       "│ 855915056 ┆ СОРОЧКА   ┆ АО ФПК    ┆ ТУ 8559-0 ┆ … ┆ 14.12.30. ┆ false     ┆ false    ┆ 14.12.30  │\n",
       "│ 9         ┆ МУЖСКАЯ   ┆           ┆ 04-000832 ┆   ┆ 131       ┆           ┆          ┆           │\n",
       "│           ┆ ФОРМЕННАЯ ┆           ┆ 62-2009   ┆   ┆           ┆           ┆          ┆           │\n",
       "│           ┆ ПОВС…     ┆           ┆           ┆   ┆           ┆           ┆          ┆           │\n",
       "│ 855915057 ┆ СОРОЧКА   ┆ АО ФПК    ┆ ТУ 8559-0 ┆ … ┆ 14.12.30. ┆ false     ┆ false    ┆ 14.12.30  │\n",
       "│ 0         ┆ МУЖСКАЯ   ┆           ┆ 04-000832 ┆   ┆ 131       ┆           ┆          ┆           │\n",
       "│           ┆ ФОРМЕННАЯ ┆           ┆ 62-2009   ┆   ┆           ┆           ┆          ┆           │\n",
       "│           ┆ ПОВС…     ┆           ┆           ┆   ┆           ┆           ┆          ┆           │\n",
       "│ 855915057 ┆ СОРОЧКА   ┆ АО ФПК    ┆ ТУ 8559-0 ┆ … ┆ 14.12.30. ┆ false     ┆ false    ┆ 14.12.30  │\n",
       "│ 1         ┆ МУЖСКАЯ   ┆           ┆ 04-000832 ┆   ┆ 131       ┆           ┆          ┆           │\n",
       "│           ┆ ФОРМЕННАЯ ┆           ┆ 62-2009   ┆   ┆           ┆           ┆          ┆           │\n",
       "│           ┆ ПОВС…     ┆           ┆           ┆   ┆           ┆           ┆          ┆           │\n",
       "│ 855915057 ┆ СОРОЧКА   ┆ АО ФПК    ┆ ТУ 8559-0 ┆ … ┆ 14.12.30. ┆ false     ┆ false    ┆ 14.12.30  │\n",
       "│ 2         ┆ МУЖСКАЯ   ┆           ┆ 04-000832 ┆   ┆ 131       ┆           ┆          ┆           │\n",
       "│           ┆ ФОРМЕННАЯ ┆           ┆ 62-2009   ┆   ┆           ┆           ┆          ┆           │\n",
       "│           ┆ ПОВС…     ┆           ┆           ┆   ┆           ┆           ┆          ┆           │\n",
       "│ 855915057 ┆ СОРОЧКА   ┆ АО ФПК    ┆ ТУ 8559-0 ┆ … ┆ 14.12.30. ┆ false     ┆ false    ┆ 14.12.30  │\n",
       "│ 3         ┆ МУЖСКАЯ   ┆           ┆ 04-000832 ┆   ┆ 131       ┆           ┆          ┆           │\n",
       "│           ┆ ФОРМЕННАЯ ┆           ┆ 62-2009   ┆   ┆           ┆           ┆          ┆           │\n",
       "│           ┆ ПОВС…     ┆           ┆           ┆   ┆           ┆           ┆          ┆           │\n",
       "│ …         ┆ …         ┆ …         ┆ …         ┆ … ┆ …         ┆ …         ┆ …        ┆ …         │\n",
       "│ 855924574 ┆ ЖИЛЕТ     ┆ ТЕХНОАВИА ┆ ГОСТ 2529 ┆ … ┆ 14.12.30. ┆ false     ┆ false    ┆ 14.12.30  │\n",
       "│ 5         ┆ ЖЕНСКИЙ   ┆ BUSINESS  ┆ 5-2003    ┆   ┆ 132       ┆           ┆          ┆           │\n",
       "│           ┆ ФОРМЕННЫЙ ┆ CLASS     ┆           ┆   ┆           ┆           ┆          ┆           │\n",
       "│           ┆           ┆ 1.124     ┆           ┆   ┆           ┆           ┆          ┆           │\n",
       "│ 855924574 ┆ ЖИЛЕТ     ┆ ТЕХНОАВИА ┆ ГОСТ 2529 ┆ … ┆ 14.12.30. ┆ false     ┆ false    ┆ 14.12.30  │\n",
       "│ 4         ┆ ЖЕНСКИЙ   ┆ BUSINESS  ┆ 5-2003    ┆   ┆ 132       ┆           ┆          ┆           │\n",
       "│           ┆ ФОРМЕННЫЙ ┆ CLASS     ┆           ┆   ┆           ┆           ┆          ┆           │\n",
       "│           ┆           ┆ 1.124     ┆           ┆   ┆           ┆           ┆          ┆           │\n",
       "│ 855924574 ┆ ЖИЛЕТ     ┆ ТЕХНОАВИА ┆ ГОСТ 2529 ┆ … ┆ 14.12.30. ┆ false     ┆ false    ┆ 14.12.30  │\n",
       "│ 3         ┆ ЖЕНСКИЙ   ┆ BUSINESS  ┆ 5-2003    ┆   ┆ 132       ┆           ┆          ┆           │\n",
       "│           ┆ ФОРМЕННЫЙ ┆ CLASS     ┆           ┆   ┆           ┆           ┆          ┆           │\n",
       "│           ┆           ┆ 1.124     ┆           ┆   ┆           ┆           ┆          ┆           │\n",
       "│ 855924574 ┆ ЖИЛЕТ     ┆ ТЕХНОАВИА ┆ ГОСТ 2529 ┆ … ┆ 14.12.30. ┆ false     ┆ false    ┆ 14.12.30  │\n",
       "│ 2         ┆ ЖЕНСКИЙ   ┆ BUSINESS  ┆ 5-2003    ┆   ┆ 132       ┆           ┆          ┆           │\n",
       "│           ┆ ФОРМЕННЫЙ ┆ CLASS     ┆           ┆   ┆           ┆           ┆          ┆           │\n",
       "│           ┆           ┆ 1.124     ┆           ┆   ┆           ┆           ┆          ┆           │\n",
       "│ 855924574 ┆ ЖИЛЕТ     ┆ ТЕХНОАВИА ┆ ГОСТ 2529 ┆ … ┆ 14.12.30. ┆ false     ┆ false    ┆ 14.12.30  │\n",
       "│ 1         ┆ ЖЕНСКИЙ   ┆ BUSINESS  ┆ 5-2003    ┆   ┆ 132       ┆           ┆          ┆           │\n",
       "│           ┆ ФОРМЕННЫЙ ┆ CLASS     ┆           ┆   ┆           ┆           ┆          ┆           │\n",
       "│           ┆           ┆ 1.124     ┆           ┆   ┆           ┆           ┆          ┆           │\n",
       "└───────────┴───────────┴───────────┴───────────┴───┴───────────┴───────────┴──────────┴───────────┘"
      ]
     },
     "execution_count": 29,
     "metadata": {},
     "output_type": "execute_result"
    }
   ],
   "source": [
    "MTR"
   ]
  },
  {
   "cell_type": "code",
   "execution_count": 31,
   "id": "936aed9c-0cfe-4b66-894f-3578a5bce1c2",
   "metadata": {},
   "outputs": [
    {
     "data": {
      "text/plain": [
       "124118"
      ]
     },
     "execution_count": 31,
     "metadata": {},
     "output_type": "execute_result"
    }
   ],
   "source": [
    "MTR[\"Наименование\"].n_unique()"
   ]
  },
  {
   "cell_type": "markdown",
   "id": "92472c42-3e67-446b-8503-c9bfc824ebe6",
   "metadata": {},
   "source": [
    "## Symbols analysis"
   ]
  },
  {
   "cell_type": "code",
   "execution_count": 35,
   "id": "613004d1-5d3a-4f9b-956a-22c672d15349",
   "metadata": {},
   "outputs": [],
   "source": [
    "gigastring = \" \".join(MTR[\"Наименование\"].to_list())"
   ]
  },
  {
   "cell_type": "code",
   "execution_count": 36,
   "id": "390b8311-2bf2-4e95-aa6e-f813640f6b12",
   "metadata": {},
   "outputs": [],
   "source": [
    "from collections import Counter"
   ]
  },
  {
   "cell_type": "code",
   "execution_count": 37,
   "id": "80c5afaf-7adf-4da9-8be8-aa6763bfbac7",
   "metadata": {},
   "outputs": [
    {
     "name": "stdout",
     "output_type": "stream",
     "text": [
      "Symbol Counts:\n",
      "====================\n",
      " : 5027271\n",
      "!: 13\n",
      "%: 1649\n",
      "&: 1\n",
      "(: 63898\n",
      "): 62043\n",
      "+: 1896\n",
      ",: 259482\n",
      "-: 57384\n",
      ".: 3595\n",
      "/: 1773\n",
      "0: 3557\n",
      "1: 4960\n",
      "2: 7089\n",
      "3: 5451\n",
      "4: 2372\n",
      "5: 1760\n",
      "6: 454\n",
      "7: 114\n",
      "8: 550\n",
      "9: 89\n",
      ":: 168\n",
      "A: 239\n",
      "B: 1027\n",
      "C: 573\n",
      "D: 840\n",
      "E: 399\n",
      "F: 78\n",
      "G: 108\n",
      "H: 111\n",
      "I: 68818\n",
      "J: 12\n",
      "K: 43\n",
      "L: 171\n",
      "M: 955\n",
      "N: 436\n",
      "O: 1759\n",
      "P: 502\n",
      "Q: 10\n",
      "R: 205\n",
      "S: 727\n",
      "T: 1024\n",
      "U: 115\n",
      "V: 9242\n",
      "W: 181\n",
      "X: 72\n",
      "Y: 791\n",
      "Z: 65\n",
      "\\: 9\n",
      "_: 1\n",
      "І: 2\n",
      "А: 2857334\n",
      "Б: 531970\n",
      "В: 1541794\n",
      "Г: 403085\n",
      "Д: 1132650\n",
      "Е: 2333074\n",
      "Ж: 473724\n",
      "З: 670370\n",
      "И: 2764885\n",
      "Й: 889834\n",
      "К: 2057541\n",
      "Л: 1762076\n",
      "М: 1316172\n",
      "Н: 2900068\n",
      "О: 3962542\n",
      "П: 1051886\n",
      "Р: 1880666\n",
      "С: 1691222\n",
      "Т: 1541155\n",
      "У: 632042\n",
      "Ф: 371330\n",
      "Х: 367916\n",
      "Ц: 124147\n",
      "Ч: 372254\n",
      "Ш: 157676\n",
      "Щ: 146140\n",
      "Ъ: 4019\n",
      "Ы: 712221\n",
      "Ь: 293633\n",
      "Э: 83237\n",
      "Ю: 174380\n",
      "Я: 937849\n",
      "–: 37\n",
      "№: 166\n",
      "====================\n"
     ]
    }
   ],
   "source": [
    "symbol_counts = Counter(gigastring)\n",
    "\n",
    "print(\"Symbol Counts:\")\n",
    "print(\"=\" * 20)\n",
    "for symbol, count in sorted(symbol_counts.items()):\n",
    "    print(f\"{symbol}: {count}\")\n",
    "print(\"=\" * 20)"
   ]
  },
  {
   "cell_type": "code",
   "execution_count": null,
   "id": "8d96f1f6-1eaa-4adb-acc6-4f9f33f0ab58",
   "metadata": {},
   "outputs": [],
   "source": []
  }
 ],
 "metadata": {
  "kernelspec": {
   "display_name": "Python 3 (ipykernel)",
   "language": "python",
   "name": "python3"
  },
  "language_info": {
   "codemirror_mode": {
    "name": "ipython",
    "version": 3
   },
   "file_extension": ".py",
   "mimetype": "text/x-python",
   "name": "python",
   "nbconvert_exporter": "python",
   "pygments_lexer": "ipython3",
   "version": "3.10.11"
  }
 },
 "nbformat": 4,
 "nbformat_minor": 5
}
